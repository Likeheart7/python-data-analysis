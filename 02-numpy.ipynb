{
 "cells": [
  {
   "cell_type": "markdown",
   "id": "6073c3ea",
   "metadata": {},
   "source": [
    "# NumPy 入门"
   ]
  },
  {
   "cell_type": "code",
   "execution_count": 6,
   "id": "274f743f",
   "metadata": {},
   "outputs": [
    {
     "name": "stdout",
     "output_type": "stream",
     "text": [
      "1.11 ms ± 24.6 µs per loop (mean ± std. dev. of 7 runs, 1000 loops each)\n",
      "14.9 ms ± 236 µs per loop (mean ± std. dev. of 7 runs, 100 loops each)\n"
     ]
    }
   ],
   "source": [
    "# 比较ndarray和list\n",
    "# ndarray普遍比list快数倍乃至数十倍\n",
    "import numpy as np\n",
    "my_arr = np.arange(100_0000)\n",
    "my_list = list(range(100_0000))\n",
    "%timeit my_arr2 = my_arr * 2\n",
    "%timeit my_list2 = my_list * 2"
   ]
  },
  {
   "cell_type": "markdown",
   "id": "0e0fb781",
   "metadata": {},
   "source": [
    "### ndarray N维数组对象"
   ]
  },
  {
   "cell_type": "code",
   "execution_count": 11,
   "id": "d2bca29f",
   "metadata": {},
   "outputs": [
    {
     "name": "stdout",
     "output_type": "stream",
     "text": [
      "[[ 1.  -3.   2.5 -1.7]\n",
      " [ 2.  19.  -8.3 -2. ]]\n",
      "<class 'numpy.ndarray'>\n",
      "[[ 10. -30.  25. -17.]\n",
      " [ 20. 190. -83. -20.]]\n",
      "[[  2.   -6.    5.   -3.4]\n",
      " [  4.   38.  -16.6  -4. ]]\n",
      "(2, 4)\n",
      "float64\n"
     ]
    }
   ],
   "source": [
    "array = np.array([[1, -3, 2.5, -1.7], [2, 19, -8.3, -2]])\n",
    "print(array)\n",
    "print(type(array))\n",
    "print(array * 10)\n",
    "print(array + array)\n",
    "# 属性\n",
    "print(array.shape) # 维度\n",
    "print(array.dtype) # 元素类型"
   ]
  },
  {
   "cell_type": "code",
   "execution_count": 24,
   "id": "4b732f4b",
   "metadata": {},
   "outputs": [
    {
     "name": "stdout",
     "output_type": "stream",
     "text": [
      "[[6.36598737e-314 4.24399158e-314]]\n",
      "[[0 0]\n",
      " [0 0]\n",
      " [0 0]]\n",
      "[[1. 1. 1. 1.]\n",
      " [1. 1. 1. 1.]\n",
      " [1. 1. 1. 1.]\n",
      " [1. 1. 1. 1.]]\n",
      "[[2 2 2]\n",
      " [2 2 2]\n",
      " [2 2 2]]\n",
      ">>>>>===========<<<<<\n",
      "[[0 0]\n",
      " [0 0]]\n",
      "[[1 1]\n",
      " [1 1]]\n",
      "[[2 3]\n",
      " [3 2]]\n"
     ]
    }
   ],
   "source": [
    "# 特殊创建方法\n",
    "# 无之、全0、全1数组\n",
    "print(np.empty(shape=(1, 2)))\n",
    "print(np.zeros((3, 2), dtype='int32'))\n",
    "print(np.ones((4,4)))\n",
    "print(np.full((3, 3), 2))\n",
    "# 创建类似的全0/empty/全1数组\n",
    "print(\">>>>>===========<<<<<\")\n",
    "shape_list = [[2,3], [3, 2]]\n",
    "print(np.zeros_like(shape_list))\n",
    "print(np.ones_like(shape_list))\n",
    "print(np.empty_like(shape_list))"
   ]
  },
  {
   "cell_type": "code",
   "execution_count": 20,
   "id": "5ef502be",
   "metadata": {},
   "outputs": [
    {
     "name": "stdout",
     "output_type": "stream",
     "text": [
      "[1 2 3]\n"
     ]
    }
   ],
   "source": [
    "# 转换\n",
    "l1 = [1, 2, 3]\n",
    "print(np.asarray(l1))"
   ]
  },
  {
   "cell_type": "code",
   "execution_count": 41,
   "id": "3cb8afa0",
   "metadata": {},
   "outputs": [
    {
     "name": "stdout",
     "output_type": "stream",
     "text": [
      "[[10 10 10]\n",
      " [10 10 10]\n",
      " [10 10 10]]\n",
      "[[0.05 0.05 0.05]\n",
      " [0.05 0.05 0.05]\n",
      " [0.05 0.05 0.05]]\n",
      "[[20 20 20]\n",
      " [20 20 20]\n",
      " [20 20 20]]\n",
      "[[100 100 100]\n",
      " [100 100 100]\n",
      " [100 100 100]]\n"
     ]
    }
   ],
   "source": [
    "# 大小相同的数组的运算，将会传递到每一个元素上\n",
    "arr_cals = np.full((3, 3), 10, np.int32)\n",
    "print(arr_cals)\n",
    "print(arr_cals / 200)\n",
    "# 大小不同的数组之间的运算触发广播，广播会自动对齐（按列或按行）\n",
    "arr_cals2 = np.full((1, 3), 2, dtype=np.int32)\n",
    "print(arr_cals * arr_cals2)\n",
    "arr_cals3 = np.full((3, 1), 10, dtype=np.int32)\n",
    "print(arr_cals * arr_cals3)"
   ]
  },
  {
   "cell_type": "code",
   "execution_count": 64,
   "id": "0eb98502",
   "metadata": {},
   "outputs": [
    {
     "name": "stdout",
     "output_type": "stream",
     "text": [
      "6\n",
      "6\n",
      "[[12 12 12]\n",
      " [ 4  5  6]]\n",
      "[12 12]\n",
      "[[12]\n",
      " [ 4]]\n",
      "[[ True  True  True]\n",
      " [False False False]]\n"
     ]
    }
   ],
   "source": [
    "# 访问单个元素的特殊方式\n",
    "arr2d = np.array([[1, 2, 3], [4, 5, 6]], dtype=np.int32)\n",
    "print(arr2d[1][2])\n",
    "print(arr2d[1, 2])\n",
    "# 单个索引操作的传播\n",
    "arr2d[0] = 12\n",
    "print(arr2d)\n",
    "# 切片\n",
    "print(arr2d[0][0:2])\n",
    "print(arr2d[:2, :1]) # 第一列的前两行\n",
    "\n",
    "# 比较的传递\n",
    "print(arr2d == 12)"
   ]
  },
  {
   "cell_type": "code",
   "execution_count": 66,
   "id": "d78d74d7",
   "metadata": {},
   "outputs": [
    {
     "name": "stdout",
     "output_type": "stream",
     "text": [
      "[[6 7 8]\n",
      " [1 2 3]]\n"
     ]
    }
   ],
   "source": [
    "# 花式索引\n",
    "arr2d3r=np.array([[1, 2, 3], [3,4, 5], [6,7,8]])\n",
    "print(arr2d3r[[-1, -3]]) # 索引n行"
   ]
  },
  {
   "cell_type": "code",
   "execution_count": 69,
   "id": "ea9aa0f3",
   "metadata": {},
   "outputs": [
    {
     "name": "stdout",
     "output_type": "stream",
     "text": [
      "[[ 0  1  2  3  4]\n",
      " [ 5  6  7  8  9]\n",
      " [10 11 12 13 14]]\n",
      "[[ 0  5 10]\n",
      " [ 1  6 11]\n",
      " [ 2  7 12]\n",
      " [ 3  8 13]\n",
      " [ 4  9 14]]\n"
     ]
    }
   ],
   "source": [
    "# 转置与轴对换\n",
    "arr = np.arange(15).reshape(3, 5)\n",
    "print(arr)\n",
    "# 轴对换，即行列对换，行变列，列变行\n",
    "print(arr.T)"
   ]
  },
  {
   "cell_type": "markdown",
   "id": "67a57aa2",
   "metadata": {},
   "source": [
    "### 通用元素级数组函数\n"
   ]
  },
  {
   "cell_type": "code",
   "execution_count": 71,
   "id": "e9fc67fe",
   "metadata": {},
   "outputs": [
    {
     "name": "stdout",
     "output_type": "stream",
     "text": [
      "[0.         1.         1.41421356 1.73205081 2.         2.23606798\n",
      " 2.44948974 2.64575131 2.82842712 3.        ]\n",
      "[1.00000000e+00 2.71828183e+00 7.38905610e+00 2.00855369e+01\n",
      " 5.45981500e+01 1.48413159e+02 4.03428793e+02 1.09663316e+03\n",
      " 2.98095799e+03 8.10308393e+03]\n"
     ]
    }
   ],
   "source": [
    "arr_func = np.arange(10)\n",
    "print(np.sqrt(arr_func))\n",
    "print(np.exp(arr_func))"
   ]
  },
  {
   "cell_type": "code",
   "execution_count": 81,
   "id": "7bcda873",
   "metadata": {},
   "outputs": [
    {
     "name": "stdout",
     "output_type": "stream",
     "text": [
      "[[ 0  1  2]\n",
      " [ 3  4  5]\n",
      " [ 6  7  8]\n",
      " [ 9 10 11]\n",
      " [12 13 14]]\n"
     ]
    }
   ],
   "source": [
    "# 保存与加载\n",
    "arr_save = np.arange(15).reshape(5, 3)\n",
    "np.save('save_data', arr_save) # 存的是二进制\n",
    "read_data = np.load('./save_data.npy')\n",
    "print(read_data)\n",
    "# np.savez可以保存多个数组，读取时为字典形式"
   ]
  },
  {
   "cell_type": "code",
   "execution_count": null,
   "id": "adea100b",
   "metadata": {},
   "outputs": [],
   "source": []
  }
 ],
 "metadata": {
  "kernelspec": {
   "display_name": "Python 3 (ipykernel)",
   "language": "python",
   "name": "python3"
  },
  "language_info": {
   "codemirror_mode": {
    "name": "ipython",
    "version": 3
   },
   "file_extension": ".py",
   "mimetype": "text/x-python",
   "name": "python",
   "nbconvert_exporter": "python",
   "pygments_lexer": "ipython3",
   "version": "3.9.13"
  }
 },
 "nbformat": 4,
 "nbformat_minor": 5
}
