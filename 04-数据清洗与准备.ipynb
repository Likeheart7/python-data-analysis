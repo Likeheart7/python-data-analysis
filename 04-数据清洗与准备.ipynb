{
 "cells": [
  {
   "cell_type": "markdown",
   "id": "1562f33b",
   "metadata": {},
   "source": [
    "# 字符串操作"
   ]
  },
  {
   "cell_type": "code",
   "execution_count": 1,
   "id": "1fde8919",
   "metadata": {},
   "outputs": [
    {
     "name": "stdout",
     "output_type": "stream",
     "text": [
      "a:b:chen\n"
     ]
    }
   ],
   "source": [
    "# 原生操作\n",
    "val = 'a,  b,   chen'\n",
    "val_list = val.split(',')\n",
    "val_list = [v.strip() for v in val_list] # 去除空白\n",
    "print(\":\".join(val_list))"
   ]
  },
  {
   "cell_type": "code",
   "execution_count": 2,
   "id": "8cc62a28",
   "metadata": {
    "scrolled": true
   },
   "outputs": [
    {
     "name": "stdout",
     "output_type": "stream",
     "text": [
      "Dave      dave@gmail.com\n",
      "chen     chenx@github.io\n",
      "Robin     rob@google.com\n",
      "Wes                  NaN\n",
      "dtype: object\n"
     ]
    }
   ],
   "source": [
    "import pandas as pd\n",
    "import numpy as np\n",
    "data = {\"Dave\": \"dave@gmail.com\", \"chen\": 'chenx@github.io', \"Robin\": \"rob@google.com\", \"Wes\": np.nan}\n",
    "data = pd.Series(data)\n",
    "print(data)"
   ]
  },
  {
   "cell_type": "code",
   "execution_count": 3,
   "id": "1c83bcdc",
   "metadata": {},
   "outputs": [
    {
     "name": "stdout",
     "output_type": "stream",
     "text": [
      "Dave     False\n",
      "chen     False\n",
      "Robin    False\n",
      "Wes       True\n",
      "dtype: bool\n"
     ]
    }
   ],
   "source": [
    "print(data.isna())"
   ]
  },
  {
   "cell_type": "code",
   "execution_count": 4,
   "id": "f2da4787",
   "metadata": {},
   "outputs": [
    {
     "data": {
      "text/plain": [
       "Dave      True\n",
       "chen     False\n",
       "Robin    False\n",
       "Wes        NaN\n",
       "dtype: object"
      ]
     },
     "execution_count": 4,
     "metadata": {},
     "output_type": "execute_result"
    }
   ],
   "source": [
    "# 通过str对Series进行字符串操作，并带有Pandas的传播行为 \n",
    "data.str.contains(\"gmail\")"
   ]
  },
  {
   "cell_type": "markdown",
   "id": "27562f31",
   "metadata": {},
   "source": [
    "# 分类数据"
   ]
  },
  {
   "cell_type": "code",
   "execution_count": 6,
   "id": "5bf49cf4",
   "metadata": {},
   "outputs": [
    {
     "data": {
      "text/plain": [
       "array(['apple', 'banana', 'creme', 'dot'], dtype=object)"
      ]
     },
     "execution_count": 6,
     "metadata": {},
     "output_type": "execute_result"
    }
   ],
   "source": [
    "values = pd.Series(['apple', 'banana', 'creme', 'dot']*2)\n",
    "values.unique()"
   ]
  },
  {
   "cell_type": "code",
   "execution_count": 8,
   "id": "fd790203",
   "metadata": {},
   "outputs": [
    {
     "data": {
      "text/plain": [
       "0     apple\n",
       "1    banana\n",
       "0     apple\n",
       "0     apple\n",
       "0     apple\n",
       "1    banana\n",
       "0     apple\n",
       "0     apple\n",
       "dtype: object"
      ]
     },
     "execution_count": 8,
     "metadata": {},
     "output_type": "execute_result"
    }
   ],
   "source": [
    "# 编码表示法,通过编码表示减少内存占用\n",
    "fruits = pd.Series([0, 1, 0, 0] * 2)\n",
    "category = pd.Series(['apple', 'banana'])\n",
    "# 分类查询显示结果\n",
    "category.take(fruits)"
   ]
  },
  {
   "cell_type": "code",
   "execution_count": 19,
   "id": "64014cea",
   "metadata": {},
   "outputs": [
    {
     "name": "stdout",
     "output_type": "stream",
     "text": [
      "0         foo\n",
      "1         foo\n",
      "2         bar\n",
      "3         zoo\n",
      "4         foo\n",
      "         ... \n",
      "799995    zoo\n",
      "799996    foo\n",
      "799997    foo\n",
      "799998    bar\n",
      "799999    zoo\n",
      "Length: 800000, dtype: category\n",
      "Categories (3, object): ['bar', 'foo', 'zoo']\n",
      "0         foo\n",
      "1         foo\n",
      "2         bar\n",
      "3         zoo\n",
      "4         foo\n",
      "         ... \n",
      "799995    zoo\n",
      "799996    foo\n",
      "799997    foo\n",
      "799998    bar\n",
      "799999    zoo\n",
      "Length: 800000, dtype: object\n",
      "800260\n",
      "6400128\n",
      "<class 'pandas.core.arrays.categorical.Categorical'>\n"
     ]
    }
   ],
   "source": [
    "# pandas对分类的支持，转为分类\n",
    "categories = pd.Series(['foo', 'bar', 'zoo'])\n",
    "labels = pd.Series(['foo', 'foo', 'bar', 'zoo'] * 20_0000)\n",
    "categories = labels.astype('category') # pandas内部会通过编号来做映射关系,会转为Categorical对象\n",
    "print(categories)\n",
    "print(labels)\n",
    "print(categories.memory_usage())\n",
    "print(labels.memory_usage())\n",
    "print(type(categories.array)) # <class 'pandas.core.arrays.categorical.Categorical'>"
   ]
  },
  {
   "cell_type": "code",
   "execution_count": 21,
   "id": "d34fc01d",
   "metadata": {},
   "outputs": [
    {
     "name": "stdout",
     "output_type": "stream",
     "text": [
      "Index(['bar', 'foo', 'zoo'], dtype='object')\n",
      "[1 1 0 ... 1 0 2]\n"
     ]
    },
    {
     "data": {
      "text/plain": [
       "{0: 'bar', 1: 'foo', 2: 'zoo'}"
      ]
     },
     "execution_count": 21,
     "metadata": {},
     "output_type": "execute_result"
    }
   ],
   "source": [
    "# <class 'pandas.core.arrays.categorical.Categorical'>对象，有两个属性\n",
    "c = categories.array\n",
    "print(c.categories)\n",
    "print(c.codes)\n",
    "# 获取编码和分类的映射关系\n",
    "dict(enumerate(c.categories))"
   ]
  },
  {
   "cell_type": "code",
   "execution_count": 23,
   "id": "fff95baf",
   "metadata": {},
   "outputs": [
    {
     "data": {
      "text/plain": [
       "['foor', 'foor', 'foor', 'barr', 'barr', 'barr', 'zooz', 'zooz', 'zooz']\n",
       "Categories (3, object): ['foor', 'barr', 'zooz']"
      ]
     },
     "execution_count": 23,
     "metadata": {},
     "output_type": "execute_result"
    }
   ],
   "source": [
    "# 通过from_codes将一组序列解析为对应的分类\n",
    "codes = [0, 0, 0, 1, 1, 1, 2, 2, 2]\n",
    "cate = ['foor', 'barr', 'zooz']\n",
    "res = pd.Categorical.from_codes(codes, cate)\n",
    "res"
   ]
  },
  {
   "cell_type": "code",
   "execution_count": 27,
   "id": "b98bf886",
   "metadata": {},
   "outputs": [
    {
     "name": "stdout",
     "output_type": "stream",
     "text": [
      "69.3 ms ± 2.11 ms per loop (mean ± std. dev. of 7 runs, 10 loops each)\n",
      "9.09 ms ± 92.4 µs per loop (mean ± std. dev. of 7 runs, 100 loops each)\n"
     ]
    }
   ],
   "source": [
    "# 转换为Categorical是有代价的\n",
    "animal_old = pd.Series(['beer', 'beer', 'elephant', 'bird', 'cat', 'cat', 'dog', 'dog', 'whale', 'lion'] * 20_0000) \n",
    "# %timeit animals = animal_old.astype('category')\n",
    "animals = animal_old.astype('category')\n",
    "# 代价是一次性的，可以提高后续处理的速度\n",
    "%timeit animal_old.value_counts()\n",
    "%timeit animals.value_counts()"
   ]
  },
  {
   "cell_type": "code",
   "execution_count": null,
   "id": "4d867b13",
   "metadata": {},
   "outputs": [],
   "source": []
  }
 ],
 "metadata": {
  "kernelspec": {
   "display_name": "Python 3 (ipykernel)",
   "language": "python",
   "name": "python3"
  },
  "language_info": {
   "codemirror_mode": {
    "name": "ipython",
    "version": 3
   },
   "file_extension": ".py",
   "mimetype": "text/x-python",
   "name": "python",
   "nbconvert_exporter": "python",
   "pygments_lexer": "ipython3",
   "version": "3.9.13"
  }
 },
 "nbformat": 4,
 "nbformat_minor": 5
}
