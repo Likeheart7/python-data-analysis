{
 "cells": [
  {
   "cell_type": "markdown",
   "id": "aeb1771f",
   "metadata": {},
   "source": [
    "# Pandas"
   ]
  },
  {
   "cell_type": "markdown",
   "id": "729254f2",
   "metadata": {},
   "source": [
    "### Series"
   ]
  },
  {
   "cell_type": "code",
   "execution_count": 1,
   "id": "6ed6ac04",
   "metadata": {},
   "outputs": [
    {
     "name": "stdout",
     "output_type": "stream",
     "text": [
      "0    4\n",
      "1    7\n",
      "2   -5\n",
      "3    3\n",
      "dtype: int64\n",
      "<PandasArray>\n",
      "[4, 7, -5, 3]\n",
      "Length: 4, dtype: int64\n",
      "RangeIndex(start=0, stop=4, step=1)\n",
      "=====>>> 带有确定索引的Series\n",
      "a    1\n",
      "b    2\n",
      "c    3\n",
      "d    4\n",
      "dtype: int64\n",
      "1\n",
      "a    1\n",
      "c    3\n",
      "d    4\n",
      "dtype: int64\n",
      "a    2\n",
      "b    4\n",
      "c    6\n",
      "d    8\n",
      "dtype: int64\n",
      "4\n"
     ]
    }
   ],
   "source": [
    "import pandas as pd\n",
    "import numpy as np\n",
    "from pandas import Series, DataFrame\n",
    "\n",
    "obj = Series([4, 7, -5, 3])\n",
    "print(obj)\n",
    "print(obj.array)\n",
    "print(obj.index)\n",
    "\n",
    "print(\"=====>>> 带有确定索引的Series\")\n",
    "obj2 = pd.Series(data = [1, 2, 3, 4], index=['a', 'b', 'c', 'd'])\n",
    "print(obj2)\n",
    "# 通过索引取值\n",
    "print(obj2['a'])\n",
    "print(obj2[['a', 'c', 'd']])\n",
    "# 运算操作\n",
    "print(obj2*2)\n",
    "print(np.max(obj2))"
   ]
  },
  {
   "cell_type": "code",
   "execution_count": 2,
   "id": "25b59e58",
   "metadata": {},
   "outputs": [
    {
     "name": "stdout",
     "output_type": "stream",
     "text": [
      "Ohlc       3500\n",
      "Texas     71000\n",
      "Oregon    16000\n",
      "dtype: int64\n",
      "{'Ohlc': 3500, 'Texas': 71000, 'Oregon': 16000}\n"
     ]
    }
   ],
   "source": [
    "# 基于字典创建Series\n",
    "sdata = {'Ohlc': 3500, 'Texas': 71000, 'Oregon': 16000}\n",
    "obj3 = Series(sdata)\n",
    "print(obj3)\n",
    "# 转回字典\n",
    "print(obj3.to_dict())"
   ]
  },
  {
   "cell_type": "markdown",
   "id": "b057c5d9",
   "metadata": {},
   "source": [
    "### DataFrame"
   ]
  },
  {
   "cell_type": "code",
   "execution_count": 3,
   "id": "ea80a05c",
   "metadata": {},
   "outputs": [
    {
     "name": "stdout",
     "output_type": "stream",
     "text": [
      "    state  year  salary\n",
      "a   chens  2000       0\n",
      "b   chenx  1999       0\n",
      "c    chen  1997   13000\n",
      "d  Nevada  1993   18000\n",
      "e  Nevada  2001    9000\n",
      "f  Nevada  2003    8000\n",
      "    state  year  salary\n",
      "a   chens  2000       0\n",
      "b   chenx  1999       0\n",
      "c    chen  1997   13000\n",
      "d  Nevada  1993   18000\n",
      "e  Nevada  2001    9000\n",
      "    state  year  salary\n",
      "b   chenx  1999       0\n",
      "c    chen  1997   13000\n",
      "d  Nevada  1993   18000\n",
      "e  Nevada  2001    9000\n",
      "f  Nevada  2003    8000\n",
      "    state  salary  year other\n",
      "0   chens       0  2000   NaN\n",
      "1   chenx       0  1999   NaN\n",
      "2    chen   13000  1997   NaN\n",
      "3  Nevada   18000  1993   NaN\n",
      "4  Nevada    9000  2001   NaN\n",
      "5  Nevada    8000  2003   NaN\n"
     ]
    }
   ],
   "source": [
    "# 有行和列的结构\n",
    "data = {'state': [\"chens\", \"chenx\", \"chen\", \"Nevada\", \"Nevada\", \"Nevada\"], \n",
    "       'year': [2000, 1999, 1997, 1993, 2001, 2003, ],\n",
    "       'salary': [0, 0, 13000, 18000, 9000, 8000]}\n",
    "frame = pd.DataFrame(data)\n",
    "frame.index = ['a', 'b', 'c', 'd', 'e', 'f']\n",
    "print(frame)\n",
    "print(frame.head()) # 前5行\n",
    "print(frame.tail()) # 后5行\n",
    "# 指定列的顺序\n",
    "print(DataFrame(data, columns=['state', 'salary', 'year', 'other']))"
   ]
  },
  {
   "cell_type": "code",
   "execution_count": 4,
   "id": "18bae2bf",
   "metadata": {},
   "outputs": [
    {
     "name": "stdout",
     "output_type": "stream",
     "text": [
      "a        0\n",
      "b        0\n",
      "c    13000\n",
      "d    18000\n",
      "e     9000\n",
      "f     8000\n",
      "Name: salary, dtype: int64\n",
      "a    2000\n",
      "b    1999\n",
      "c    1997\n",
      "d    1993\n",
      "e    2001\n",
      "f    2003\n",
      "Name: year, dtype: int64\n",
      "=====>>> 获取一行\n",
      "state     chens\n",
      "year       2000\n",
      "salary        0\n",
      "Name: a, dtype: object\n",
      "state     chenx\n",
      "year       1999\n",
      "salary        0\n",
      "Name: b, dtype: object\n"
     ]
    },
    {
     "data": {
      "text/html": [
       "<div>\n",
       "<style scoped>\n",
       "    .dataframe tbody tr th:only-of-type {\n",
       "        vertical-align: middle;\n",
       "    }\n",
       "\n",
       "    .dataframe tbody tr th {\n",
       "        vertical-align: top;\n",
       "    }\n",
       "\n",
       "    .dataframe thead th {\n",
       "        text-align: right;\n",
       "    }\n",
       "</style>\n",
       "<table border=\"1\" class=\"dataframe\">\n",
       "  <thead>\n",
       "    <tr style=\"text-align: right;\">\n",
       "      <th></th>\n",
       "      <th>a</th>\n",
       "      <th>b</th>\n",
       "      <th>c</th>\n",
       "      <th>d</th>\n",
       "      <th>e</th>\n",
       "      <th>f</th>\n",
       "    </tr>\n",
       "  </thead>\n",
       "  <tbody>\n",
       "    <tr>\n",
       "      <th>state</th>\n",
       "      <td>chens</td>\n",
       "      <td>chenx</td>\n",
       "      <td>chen</td>\n",
       "      <td>Nevada</td>\n",
       "      <td>Nevada</td>\n",
       "      <td>Nevada</td>\n",
       "    </tr>\n",
       "    <tr>\n",
       "      <th>year</th>\n",
       "      <td>2000</td>\n",
       "      <td>1999</td>\n",
       "      <td>1997</td>\n",
       "      <td>1993</td>\n",
       "      <td>2001</td>\n",
       "      <td>2003</td>\n",
       "    </tr>\n",
       "    <tr>\n",
       "      <th>salary</th>\n",
       "      <td>0</td>\n",
       "      <td>0</td>\n",
       "      <td>13000</td>\n",
       "      <td>18000</td>\n",
       "      <td>9000</td>\n",
       "      <td>8000</td>\n",
       "    </tr>\n",
       "    <tr>\n",
       "      <th>other</th>\n",
       "      <td>10.3</td>\n",
       "      <td>10.3</td>\n",
       "      <td>10.3</td>\n",
       "      <td>10.3</td>\n",
       "      <td>10.3</td>\n",
       "      <td>10.3</td>\n",
       "    </tr>\n",
       "  </tbody>\n",
       "</table>\n",
       "</div>"
      ],
      "text/plain": [
       "            a      b      c       d       e       f\n",
       "state   chens  chenx   chen  Nevada  Nevada  Nevada\n",
       "year     2000   1999   1997    1993    2001    2003\n",
       "salary      0      0  13000   18000    9000    8000\n",
       "other    10.3   10.3   10.3    10.3    10.3    10.3"
      ]
     },
     "execution_count": 4,
     "metadata": {},
     "output_type": "execute_result"
    }
   ],
   "source": [
    "# DataFrame的一列可以作为一个Series取出\n",
    "print(frame[\"salary\"])\n",
    "print(frame.year)\n",
    "# 获取一行\n",
    "print(\"=====>>> 获取一行\")\n",
    "print(frame.loc['a']) # 通过索引名称获取\n",
    "print(frame.iloc[1]) # 通过索引序号获取\n",
    "# 为一列赋值\n",
    "frame['other'] = 10.3\n",
    "# del frame['salary'] # 删除列\n",
    "frame.T"
   ]
  },
  {
   "cell_type": "code",
   "execution_count": 5,
   "id": "2645dcbb",
   "metadata": {},
   "outputs": [
    {
     "data": {
      "text/plain": [
       "array(['chens', 'chenx', 'chen', 'Nevada', 'Nevada', 'Nevada'],\n",
       "      dtype=object)"
      ]
     },
     "execution_count": 5,
     "metadata": {},
     "output_type": "execute_result"
    }
   ],
   "source": [
    "# 转为 numpy\n",
    "frame.state.to_numpy()"
   ]
  },
  {
   "cell_type": "markdown",
   "id": "8fb9271d",
   "metadata": {},
   "source": [
    "## 基本功能"
   ]
  },
  {
   "cell_type": "code",
   "execution_count": 6,
   "id": "c8064f2e",
   "metadata": {},
   "outputs": [
    {
     "name": "stdout",
     "output_type": "stream",
     "text": [
      "a    3.50\n",
      "b    7.12\n",
      "c    2.90\n",
      "d    6.26\n",
      "e    5.38\n",
      "dtype: float64\n",
      "e    5.38\n",
      "d    6.26\n",
      "c    2.90\n",
      "b    7.12\n",
      "a    3.50\n",
      "m    5.38\n",
      "dtype: float64\n"
     ]
    }
   ],
   "source": [
    "obj = Series([3.5, 7.12, 2.9, 6.26, 5.38], index=['a', 'b', 'c', 'd', 'e'])\n",
    "print(obj)\n",
    "# 重建索引\n",
    " # 默认不存在的index填充NaN\n",
    "print(obj.reindex(['e', 'd', 'c', 'b', 'a', 'm'], method='ffill')) # ffill向前填充\n"
   ]
  },
  {
   "cell_type": "code",
   "execution_count": 7,
   "id": "b7397762",
   "metadata": {},
   "outputs": [
    {
     "name": "stdout",
     "output_type": "stream",
     "text": [
      "0    0.0\n",
      "2    2.0\n",
      "3    3.0\n",
      "4    4.0\n",
      "dtype: float64\n"
     ]
    }
   ],
   "source": [
    "obj2 = Series(np.arange(5.))\n",
    "print(obj2.drop(1))"
   ]
  },
  {
   "cell_type": "markdown",
   "id": "0e33699c",
   "metadata": {},
   "source": [
    "## 描述性统计和汇总计算"
   ]
  },
  {
   "cell_type": "code",
   "execution_count": 12,
   "id": "669e586e",
   "metadata": {},
   "outputs": [
    {
     "data": {
      "text/html": [
       "<div>\n",
       "<style scoped>\n",
       "    .dataframe tbody tr th:only-of-type {\n",
       "        vertical-align: middle;\n",
       "    }\n",
       "\n",
       "    .dataframe tbody tr th {\n",
       "        vertical-align: top;\n",
       "    }\n",
       "\n",
       "    .dataframe thead th {\n",
       "        text-align: right;\n",
       "    }\n",
       "</style>\n",
       "<table border=\"1\" class=\"dataframe\">\n",
       "  <thead>\n",
       "    <tr style=\"text-align: right;\">\n",
       "      <th></th>\n",
       "      <th>one</th>\n",
       "      <th>two</th>\n",
       "    </tr>\n",
       "  </thead>\n",
       "  <tbody>\n",
       "    <tr>\n",
       "      <th>a</th>\n",
       "      <td>1.40</td>\n",
       "      <td>NaN</td>\n",
       "    </tr>\n",
       "    <tr>\n",
       "      <th>b</th>\n",
       "      <td>7.10</td>\n",
       "      <td>-4.6</td>\n",
       "    </tr>\n",
       "    <tr>\n",
       "      <th>c</th>\n",
       "      <td>NaN</td>\n",
       "      <td>NaN</td>\n",
       "    </tr>\n",
       "    <tr>\n",
       "      <th>d</th>\n",
       "      <td>0.75</td>\n",
       "      <td>-1.3</td>\n",
       "    </tr>\n",
       "  </tbody>\n",
       "</table>\n",
       "</div>"
      ],
      "text/plain": [
       "    one  two\n",
       "a  1.40  NaN\n",
       "b  7.10 -4.6\n",
       "c   NaN  NaN\n",
       "d  0.75 -1.3"
      ]
     },
     "execution_count": 12,
     "metadata": {},
     "output_type": "execute_result"
    }
   ],
   "source": [
    "df = DataFrame([[1.4, np.nan], [7.1, -4.6], [np.nan, np.nan], [0.75, -1.3]], index=['a', 'b', 'c', 'd'], columns=['one', 'two'])\n",
    "df"
   ]
  },
  {
   "cell_type": "code",
   "execution_count": 18,
   "id": "0aff5d2c",
   "metadata": {},
   "outputs": [
    {
     "name": "stdout",
     "output_type": "stream",
     "text": [
      "one    9.25\n",
      "two   -5.90\n",
      "dtype: float64\n",
      "a    1.40\n",
      "b    2.50\n",
      "c    0.00\n",
      "d   -0.55\n",
      "dtype: float64\n",
      "a    1.400\n",
      "b    1.250\n",
      "c      NaN\n",
      "d   -0.275\n",
      "dtype: float64\n"
     ]
    }
   ],
   "source": [
    "# 默认会跳过NaN，可以通过skipna设置\n",
    "print(df.sum())\n",
    "print(df.sum(axis=1))\n",
    "print(df.mean(axis='columns')) # 至少有一个NaN，否则结果为NaN"
   ]
  },
  {
   "cell_type": "code",
   "execution_count": 20,
   "id": "3aa1066c",
   "metadata": {},
   "outputs": [
    {
     "name": "stdout",
     "output_type": "stream",
     "text": [
      "one    b\n",
      "two    d\n",
      "dtype: object\n",
      "a    one\n",
      "b    one\n",
      "c    NaN\n",
      "d    one\n",
      "dtype: object\n"
     ]
    }
   ],
   "source": [
    "print(df.idxmax()) # 返回最大值所在的索引\n",
    "print(df.idxmax(axis=1)) # 最大值所在的列"
   ]
  },
  {
   "cell_type": "code",
   "execution_count": 21,
   "id": "423bb45d",
   "metadata": {},
   "outputs": [
    {
     "name": "stdout",
     "output_type": "stream",
     "text": [
      "            one       two\n",
      "count  3.000000  2.000000\n",
      "mean   3.083333 -2.950000\n",
      "std    3.493685  2.333452\n",
      "min    0.750000 -4.600000\n",
      "25%    1.075000 -3.775000\n",
      "50%    1.400000 -2.950000\n",
      "75%    4.250000 -2.125000\n",
      "max    7.100000 -1.300000\n"
     ]
    }
   ],
   "source": [
    "print(df.describe()) # 汇总所有数据"
   ]
  }
 ],
 "metadata": {
  "kernelspec": {
   "display_name": "Python 3 (ipykernel)",
   "language": "python",
   "name": "python3"
  },
  "language_info": {
   "codemirror_mode": {
    "name": "ipython",
    "version": 3
   },
   "file_extension": ".py",
   "mimetype": "text/x-python",
   "name": "python",
   "nbconvert_exporter": "python",
   "pygments_lexer": "ipython3",
   "version": "3.9.13"
  }
 },
 "nbformat": 4,
 "nbformat_minor": 5
}
